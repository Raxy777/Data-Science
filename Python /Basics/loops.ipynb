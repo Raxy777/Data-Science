{
 "cells": [
  {
   "cell_type": "code",
   "execution_count": 1,
   "id": "3becd5d1-163f-431a-a91c-285f4c3cf891",
   "metadata": {},
   "outputs": [
    {
     "name": "stdin",
     "output_type": "stream",
     "text": [
      "enter your marks :  53\n"
     ]
    },
    {
     "name": "stdout",
     "output_type": "stream",
     "text": [
      "you will pass\n"
     ]
    }
   ],
   "source": [
    "marks = int(input(\"enter your marks : \"))\n",
    "if marks >= 35 :\n",
    "    print(\"you will pass\")\n",
    "elif marks < 35 :\n",
    "    print(\"failed\")"
   ]
  },
  {
   "cell_type": "code",
   "execution_count": 2,
   "id": "6f8db1b0-3493-4461-8a18-9a652cd4ee12",
   "metadata": {},
   "outputs": [
    {
     "name": "stdin",
     "output_type": "stream",
     "text": [
      "Enter price :  8200\n"
     ]
    },
    {
     "name": "stdout",
     "output_type": "stream",
     "text": [
      "I will not purchase\n",
      "little higher\n"
     ]
    }
   ],
   "source": [
    "price = int(input(\"Enter price : \"))\n",
    "if price > 6000 :\n",
    "    print(\"I will not purchase\")\n",
    "    if price > 10000 :\n",
    "        print(\"too much\")\n",
    "    elif price > 8000 :\n",
    "        print(\"little higher\")\n",
    "        "
   ]
  },
  {
   "cell_type": "code",
   "execution_count": 1,
   "id": "e7f98ef5-a56b-428a-9568-6666829c07f4",
   "metadata": {},
   "outputs": [],
   "source": [
    "l = [1,2,3,3,4,5,6,7,8]"
   ]
  },
  {
   "cell_type": "code",
   "execution_count": 2,
   "id": "5c7236f6-673b-4d5f-9d5c-56b715aeb193",
   "metadata": {},
   "outputs": [
    {
     "name": "stdout",
     "output_type": "stream",
     "text": [
      "1\n",
      "2\n",
      "3\n",
      "3\n",
      "4\n",
      "5\n",
      "6\n",
      "7\n",
      "8\n"
     ]
    }
   ],
   "source": [
    "for i in l :\n",
    "    print(i)"
   ]
  },
  {
   "cell_type": "code",
   "execution_count": 12,
   "id": "1d824e1b-b23d-4698-9c89-2c1e1805631e",
   "metadata": {},
   "outputs": [],
   "source": [
    " st= [\"array\",\"string\",\"stack\",\"queue\"]"
   ]
  },
  {
   "cell_type": "code",
   "execution_count": 13,
   "id": "6e48e6bc-91f0-4f17-8655-0ceca0d748d9",
   "metadata": {},
   "outputs": [
    {
     "name": "stdout",
     "output_type": "stream",
     "text": [
      "array\n",
      "string\n",
      "stack\n",
      "queue\n"
     ]
    }
   ],
   "source": [
    "temp = []\n",
    "for i in st :\n",
    "    print(i)\n",
    "    temp.append(i.upper())"
   ]
  },
  {
   "cell_type": "code",
   "execution_count": 14,
   "id": "1bb9d3e4-9f84-4937-a771-5f19f514f87c",
   "metadata": {},
   "outputs": [
    {
     "data": {
      "text/plain": [
       "['ARRAY', 'STRING', 'STACK', 'QUEUE']"
      ]
     },
     "execution_count": 14,
     "metadata": {},
     "output_type": "execute_result"
    }
   ],
   "source": [
    "temp"
   ]
  },
  {
   "cell_type": "code",
   "execution_count": 1,
   "id": "4790700d-5a50-4e78-8af6-87d7995b76cb",
   "metadata": {},
   "outputs": [],
   "source": [
    "l=[1,2,3,4,5]"
   ]
  },
  {
   "cell_type": "code",
   "execution_count": 5,
   "id": "434eab2e-04c5-40a7-bd71-0f8ba2678580",
   "metadata": {},
   "outputs": [
    {
     "name": "stdout",
     "output_type": "stream",
     "text": [
      "1\n"
     ]
    }
   ],
   "source": [
    "for i in l :\n",
    "    if i == 2 :\n",
    "        break;\n",
    "    print(i)\n",
    "else :\n",
    "    print(\"completed\")"
   ]
  },
  {
   "cell_type": "code",
   "execution_count": 6,
   "id": "5e5b3ccd-50f5-44f1-bde2-996e3380d0de",
   "metadata": {},
   "outputs": [
    {
     "name": "stdout",
     "output_type": "stream",
     "text": [
      "1\n",
      "3\n",
      "4\n",
      "5\n",
      "completed\n"
     ]
    }
   ],
   "source": [
    "for i in l :\n",
    "    if i == 2 :\n",
    "        continue;\n",
    "    print(i)\n",
    "else :\n",
    "    print(\"completed\")"
   ]
  },
  {
   "cell_type": "code",
   "execution_count": 7,
   "id": "2fb8834f-d0a4-41cb-81f1-c5f444e6420d",
   "metadata": {},
   "outputs": [
    {
     "data": {
      "text/plain": [
       "range(0, 5)"
      ]
     },
     "execution_count": 7,
     "metadata": {},
     "output_type": "execute_result"
    }
   ],
   "source": [
    "range(5)"
   ]
  },
  {
   "cell_type": "code",
   "execution_count": 9,
   "id": "ca8c5aee-e96b-4431-8a39-696598a797ff",
   "metadata": {},
   "outputs": [
    {
     "data": {
      "text/plain": [
       "[0, 1, 2, 3, 4]"
      ]
     },
     "execution_count": 9,
     "metadata": {},
     "output_type": "execute_result"
    }
   ],
   "source": [
    "list(range(5))"
   ]
  },
  {
   "cell_type": "code",
   "execution_count": 10,
   "id": "0e9581df-b4f6-45a1-ba1b-d0f22e5e54be",
   "metadata": {},
   "outputs": [
    {
     "data": {
      "text/plain": [
       "[1, 3, 5, 7, 9, 11, 13, 15, 17, 19]"
      ]
     },
     "execution_count": 10,
     "metadata": {},
     "output_type": "execute_result"
    }
   ],
   "source": [
    "list(range(1,20,2))"
   ]
  },
  {
   "cell_type": "code",
   "execution_count": 19,
   "id": "c7bc364d-7bce-4fc5-8927-37d2c9c383b7",
   "metadata": {},
   "outputs": [],
   "source": [
    " l1 = [\"array\",\"string\",\"stack\",\"queue\"]"
   ]
  },
  {
   "cell_type": "code",
   "execution_count": 21,
   "id": "01c8e028-3ff5-44b7-98b0-6f70d6c61340",
   "metadata": {},
   "outputs": [
    {
     "name": "stdout",
     "output_type": "stream",
     "text": [
      "queue\n",
      "stack\n",
      "string\n",
      "array\n"
     ]
    }
   ],
   "source": [
    "for i in range (len(l1)-1,-1,-1) :\n",
    "    print(l1[i])"
   ]
  },
  {
   "cell_type": "code",
   "execution_count": 22,
   "id": "c57bbf09-1348-4688-ac9a-af86fe3fd12f",
   "metadata": {},
   "outputs": [],
   "source": [
    "l = [1,2,34,6,7,45,86]"
   ]
  },
  {
   "cell_type": "code",
   "execution_count": 23,
   "id": "d831e60c-82a9-4bde-afad-0f6a98628a94",
   "metadata": {},
   "outputs": [
    {
     "data": {
      "text/plain": [
       "181"
      ]
     },
     "execution_count": 23,
     "metadata": {},
     "output_type": "execute_result"
    }
   ],
   "source": [
    "sum(l)"
   ]
  },
  {
   "cell_type": "code",
   "execution_count": 24,
   "id": "12c9f6f9-957d-4aa2-8a84-6b9c076f64a0",
   "metadata": {},
   "outputs": [
    {
     "name": "stdout",
     "output_type": "stream",
     "text": [
      "181\n"
     ]
    }
   ],
   "source": [
    "ans = 0\n",
    "for i in l :\n",
    "    ans+=i\n",
    "print(ans)"
   ]
  },
  {
   "cell_type": "code",
   "execution_count": 25,
   "id": "6f542758-680f-4def-ac9c-76dea0552c5c",
   "metadata": {},
   "outputs": [],
   "source": [
    "t = (1,2,3,3,4,6,7)"
   ]
  },
  {
   "cell_type": "code",
   "execution_count": 26,
   "id": "26b7558d-6067-4a10-9fe8-11e038232960",
   "metadata": {},
   "outputs": [
    {
     "name": "stdout",
     "output_type": "stream",
     "text": [
      "26\n"
     ]
    }
   ],
   "source": [
    "ans = 0\n",
    "for i in t :\n",
    "    ans+=i\n",
    "print(ans)"
   ]
  },
  {
   "cell_type": "code",
   "execution_count": null,
   "id": "07a99eb4-14ba-4553-bd42-f38d827e6d11",
   "metadata": {},
   "outputs": [],
   "source": []
  }
 ],
 "metadata": {
  "kernelspec": {
   "display_name": "Python 3 (ipykernel)",
   "language": "python",
   "name": "python3"
  },
  "language_info": {
   "codemirror_mode": {
    "name": "ipython",
    "version": 3
   },
   "file_extension": ".py",
   "mimetype": "text/x-python",
   "name": "python",
   "nbconvert_exporter": "python",
   "pygments_lexer": "ipython3",
   "version": "3.10.8"
  }
 },
 "nbformat": 4,
 "nbformat_minor": 5
}
