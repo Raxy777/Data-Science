{
 "cells": [
  {
   "cell_type": "code",
   "execution_count": 2,
   "id": "230067df-854c-4f1d-8093-cce775c768d1",
   "metadata": {},
   "outputs": [],
   "source": [
    "a = 7"
   ]
  },
  {
   "cell_type": "code",
   "execution_count": 3,
   "id": "2023b3fb-76e2-44e4-8240-ab37cc309b99",
   "metadata": {},
   "outputs": [
    {
     "data": {
      "text/plain": [
       "int"
      ]
     },
     "execution_count": 3,
     "metadata": {},
     "output_type": "execute_result"
    }
   ],
   "source": [
    "type(a)"
   ]
  },
  {
   "cell_type": "code",
   "execution_count": 4,
   "id": "31a3bb72-6557-4a78-a358-4d0904caa3d2",
   "metadata": {},
   "outputs": [],
   "source": [
    "b = 2.45"
   ]
  },
  {
   "cell_type": "code",
   "execution_count": 5,
   "id": "30e2bc78-646e-4874-8e1a-0534fc6f85df",
   "metadata": {},
   "outputs": [
    {
     "data": {
      "text/plain": [
       "float"
      ]
     },
     "execution_count": 5,
     "metadata": {},
     "output_type": "execute_result"
    }
   ],
   "source": [
    "type(b)"
   ]
  },
  {
   "cell_type": "code",
   "execution_count": 6,
   "id": "3da2293b-b4f1-4f4d-bd75-f460a3554573",
   "metadata": {},
   "outputs": [],
   "source": [
    "c = \"goat\""
   ]
  },
  {
   "cell_type": "code",
   "execution_count": 7,
   "id": "7669a716-df1c-45ea-8ea8-a597a497c286",
   "metadata": {},
   "outputs": [
    {
     "data": {
      "text/plain": [
       "str"
      ]
     },
     "execution_count": 7,
     "metadata": {},
     "output_type": "execute_result"
    }
   ],
   "source": [
    "type(c)"
   ]
  },
  {
   "cell_type": "code",
   "execution_count": 9,
   "id": "75855a6a-e51e-44f9-9d8b-f552f5610a8b",
   "metadata": {},
   "outputs": [],
   "source": [
    "n = True"
   ]
  },
  {
   "cell_type": "code",
   "execution_count": 10,
   "id": "a2e75009-f5db-4246-80af-bcb1305b01fa",
   "metadata": {},
   "outputs": [
    {
     "data": {
      "text/plain": [
       "bool"
      ]
     },
     "execution_count": 10,
     "metadata": {},
     "output_type": "execute_result"
    }
   ],
   "source": [
    "type(n)"
   ]
  },
  {
   "cell_type": "code",
   "execution_count": 4,
   "id": "ad0ee87d-45c8-41f5-951f-77fe2ec95e5b",
   "metadata": {},
   "outputs": [],
   "source": [
    "#complex number\n",
    "v = 5 + 8j"
   ]
  },
  {
   "cell_type": "code",
   "execution_count": 5,
   "id": "ad65f8f3-17ef-4b17-9565-70c7a1d5056b",
   "metadata": {},
   "outputs": [
    {
     "name": "stdout",
     "output_type": "stream",
     "text": [
      "(5+8j)\n"
     ]
    }
   ],
   "source": [
    "print(v)"
   ]
  },
  {
   "cell_type": "code",
   "execution_count": 12,
   "id": "1489bfcd-c137-4e04-b35d-ce939b37cdcb",
   "metadata": {},
   "outputs": [
    {
     "data": {
      "text/plain": [
       "complex"
      ]
     },
     "execution_count": 12,
     "metadata": {},
     "output_type": "execute_result"
    }
   ],
   "source": [
    "type(v)"
   ]
  },
  {
   "cell_type": "code",
   "execution_count": 6,
   "id": "076d5ca6-9dc4-49b3-8048-0a56a210a3cf",
   "metadata": {},
   "outputs": [
    {
     "data": {
      "text/plain": [
       "5.0"
      ]
     },
     "execution_count": 6,
     "metadata": {},
     "output_type": "execute_result"
    }
   ],
   "source": [
    "v.real"
   ]
  },
  {
   "cell_type": "code",
   "execution_count": 7,
   "id": "3a79b9e3-9993-4828-9188-206cc8485f84",
   "metadata": {},
   "outputs": [
    {
     "data": {
      "text/plain": [
       "8.0"
      ]
     },
     "execution_count": 7,
     "metadata": {},
     "output_type": "execute_result"
    }
   ],
   "source": [
    "v.imag"
   ]
  },
  {
   "cell_type": "code",
   "execution_count": 8,
   "id": "e2ebd311-7132-4da0-b150-f3b6c80130ea",
   "metadata": {},
   "outputs": [
    {
     "name": "stdout",
     "output_type": "stream",
     "text": [
      "Hello World\n"
     ]
    }
   ],
   "source": [
    "print('Hello World')"
   ]
  },
  {
   "cell_type": "code",
   "execution_count": 9,
   "id": "ac53e0e5-c70e-4cea-87a0-bf1f0f0dc349",
   "metadata": {},
   "outputs": [],
   "source": [
    "name = \"Ramanath\""
   ]
  },
  {
   "cell_type": "code",
   "execution_count": 10,
   "id": "6e05496a-69f9-45c2-abbe-3fda38a28833",
   "metadata": {},
   "outputs": [
    {
     "data": {
      "text/plain": [
       "'m'"
      ]
     },
     "execution_count": 10,
     "metadata": {},
     "output_type": "execute_result"
    }
   ],
   "source": [
    "name[2]"
   ]
  },
  {
   "cell_type": "code",
   "execution_count": 11,
   "id": "a6b37ba1-9d86-4766-adf1-752d921e4ab6",
   "metadata": {},
   "outputs": [
    {
     "data": {
      "text/plain": [
       "'R'"
      ]
     },
     "execution_count": 11,
     "metadata": {},
     "output_type": "execute_result"
    }
   ],
   "source": [
    "name[-8]"
   ]
  },
  {
   "cell_type": "code",
   "execution_count": 15,
   "id": "301830dd-a322-4dec-9ae2-cea2f897843e",
   "metadata": {},
   "outputs": [
    {
     "data": {
      "text/plain": [
       "'Ram'"
      ]
     },
     "execution_count": 15,
     "metadata": {},
     "output_type": "execute_result"
    }
   ],
   "source": [
    "name[0:3]  # slicing - give the data except the upper bound"
   ]
  },
  {
   "cell_type": "code",
   "execution_count": 16,
   "id": "4a848468-68dc-4389-8602-e40d31022635",
   "metadata": {},
   "outputs": [
    {
     "data": {
      "text/plain": [
       "'Rmnt'"
      ]
     },
     "execution_count": 16,
     "metadata": {},
     "output_type": "execute_result"
    }
   ],
   "source": [
    "name[0:8:2]"
   ]
  },
  {
   "cell_type": "code",
   "execution_count": 17,
   "id": "77eb0b41-5f2e-47d8-bef9-6f54eaf558e2",
   "metadata": {},
   "outputs": [
    {
     "data": {
      "text/plain": [
       "'Rmnt'"
      ]
     },
     "execution_count": 17,
     "metadata": {},
     "output_type": "execute_result"
    }
   ],
   "source": [
    "name[::2]"
   ]
  },
  {
   "cell_type": "code",
   "execution_count": 22,
   "id": "b12ec393-c920-44c8-a52a-4d7809e0a7d9",
   "metadata": {},
   "outputs": [
    {
     "data": {
      "text/plain": [
       "'htanama'"
      ]
     },
     "execution_count": 22,
     "metadata": {},
     "output_type": "execute_result"
    }
   ],
   "source": [
    "name[8:0:-1]"
   ]
  },
  {
   "cell_type": "code",
   "execution_count": 2,
   "id": "2b9588ea-cd70-410e-97cf-0ff0a0d23d32",
   "metadata": {},
   "outputs": [],
   "source": [
    "s1 = \"this is my string class\""
   ]
  },
  {
   "cell_type": "code",
   "execution_count": 3,
   "id": "9ee76a34-f1d6-420e-8b17-b446b7e2bf65",
   "metadata": {},
   "outputs": [],
   "source": [
    "# string manipulation"
   ]
  },
  {
   "cell_type": "code",
   "execution_count": 4,
   "id": "5d482b03-bd0a-468d-85cc-6248acd2d26f",
   "metadata": {},
   "outputs": [
    {
     "data": {
      "text/plain": [
       "23"
      ]
     },
     "execution_count": 4,
     "metadata": {},
     "output_type": "execute_result"
    }
   ],
   "source": [
    "len(s1)"
   ]
  },
  {
   "cell_type": "code",
   "execution_count": 7,
   "id": "363590b4-4602-4e0a-b91a-85afe646293d",
   "metadata": {
    "tags": []
   },
   "outputs": [
    {
     "data": {
      "text/plain": [
       "3"
      ]
     },
     "execution_count": 7,
     "metadata": {},
     "output_type": "execute_result"
    }
   ],
   "source": [
    "s1.find('s') # Return the lowest index in S where substring sub is found,such that sub is contained within S[start:end].  "
   ]
  },
  {
   "cell_type": "code",
   "execution_count": 8,
   "id": "174eebf3-baee-4168-ac03-6c2b7e83efa0",
   "metadata": {},
   "outputs": [
    {
     "data": {
      "text/plain": [
       "2"
      ]
     },
     "execution_count": 8,
     "metadata": {},
     "output_type": "execute_result"
    }
   ],
   "source": [
    "s1.find(\"is\")"
   ]
  },
  {
   "cell_type": "code",
   "execution_count": 10,
   "id": "121ad0a2-f915-468d-b14a-410e70c5ae4c",
   "metadata": {},
   "outputs": [
    {
     "data": {
      "text/plain": [
       "-1"
      ]
     },
     "execution_count": 10,
     "metadata": {},
     "output_type": "execute_result"
    }
   ],
   "source": [
    "s1.find('d')"
   ]
  },
  {
   "cell_type": "code",
   "execution_count": 11,
   "id": "477af048-2454-4e0f-af0d-02eba03b0415",
   "metadata": {},
   "outputs": [
    {
     "data": {
      "text/plain": [
       "5"
      ]
     },
     "execution_count": 11,
     "metadata": {},
     "output_type": "execute_result"
    }
   ],
   "source": [
    "s1.count('s')"
   ]
  },
  {
   "cell_type": "code",
   "execution_count": 12,
   "id": "8e2cf9ab-b2ce-416e-a91e-8bce81c56af3",
   "metadata": {},
   "outputs": [
    {
     "data": {
      "text/plain": [
       "'THIS IS MY STRING CLASS'"
      ]
     },
     "execution_count": 12,
     "metadata": {},
     "output_type": "execute_result"
    }
   ],
   "source": [
    "s1.upper()"
   ]
  },
  {
   "cell_type": "code",
   "execution_count": 13,
   "id": "149a1279-5923-48ef-b20e-f40abae3b901",
   "metadata": {},
   "outputs": [
    {
     "data": {
      "text/plain": [
       "'this is my string class'"
      ]
     },
     "execution_count": 13,
     "metadata": {},
     "output_type": "execute_result"
    }
   ],
   "source": [
    "s1.lower()"
   ]
  },
  {
   "cell_type": "code",
   "execution_count": 14,
   "id": "2d741ac0-6372-43fb-af36-b25d3ef21135",
   "metadata": {},
   "outputs": [
    {
     "data": {
      "text/plain": [
       "'This Is My String Class'"
      ]
     },
     "execution_count": 14,
     "metadata": {},
     "output_type": "execute_result"
    }
   ],
   "source": [
    "s1.title()"
   ]
  },
  {
   "cell_type": "code",
   "execution_count": 17,
   "id": "01a4aef4-f6e7-4ac7-99e4-26c5e515391c",
   "metadata": {},
   "outputs": [],
   "source": [
    "s = \"fresh\""
   ]
  },
  {
   "cell_type": "code",
   "execution_count": 18,
   "id": "08005efb-8989-48db-9b1b-7e2799fd2cb7",
   "metadata": {},
   "outputs": [
    {
     "data": {
      "text/plain": [
       "'fresh1'"
      ]
     },
     "execution_count": 18,
     "metadata": {},
     "output_type": "execute_result"
    }
   ],
   "source": [
    "s + str(1)"
   ]
  },
  {
   "cell_type": "code",
   "execution_count": 19,
   "id": "1441722b-3499-4109-888a-c11b5e1c2a24",
   "metadata": {},
   "outputs": [
    {
     "data": {
      "text/plain": [
       "'freshfreshfresh'"
      ]
     },
     "execution_count": 19,
     "metadata": {},
     "output_type": "execute_result"
    }
   ],
   "source": [
    "s * 3"
   ]
  },
  {
   "cell_type": "code",
   "execution_count": null,
   "id": "5aa50da0-9085-4216-b2c2-89ae8edc1c53",
   "metadata": {},
   "outputs": [],
   "source": []
  }
 ],
 "metadata": {
  "kernelspec": {
   "display_name": "Python 3 (ipykernel)",
   "language": "python",
   "name": "python3"
  },
  "language_info": {
   "codemirror_mode": {
    "name": "ipython",
    "version": 3
   },
   "file_extension": ".py",
   "mimetype": "text/x-python",
   "name": "python",
   "nbconvert_exporter": "python",
   "pygments_lexer": "ipython3",
   "version": "3.10.8"
  }
 },
 "nbformat": 4,
 "nbformat_minor": 5
}
